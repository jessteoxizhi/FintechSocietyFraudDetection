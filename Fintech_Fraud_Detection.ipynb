{
  "nbformat": 4,
  "nbformat_minor": 0,
  "metadata": {
    "colab": {
      "name": "Fintech Fraud Detection.ipynb",
      "provenance": [],
      "collapsed_sections": [],
      "toc_visible": true,
      "include_colab_link": true
    },
    "kernelspec": {
      "name": "python3",
      "display_name": "Python 3"
    },
    "accelerator": "GPU"
  },
  "cells": [
    {
      "cell_type": "markdown",
      "metadata": {
        "id": "view-in-github",
        "colab_type": "text"
      },
      "source": [
        "<a href=\"https://colab.research.google.com/github/jessteoxizhi/FintechSocietyFraudDetection/blob/master/Fintech_Fraud_Detection.ipynb\" target=\"_parent\"><img src=\"https://colab.research.google.com/assets/colab-badge.svg\" alt=\"Open In Colab\"/></a>"
      ]
    },
    {
      "cell_type": "markdown",
      "metadata": {
        "id": "qsGg-_o8rU0f",
        "colab_type": "text"
      },
      "source": [
        "# FRAUD DETECTION\n",
        "---\n",
        "\n",
        "\n",
        "## Table of Contents\n",
        "1. Problem Description (Brief Write Up)\n",
        "2. Exploratory Data Analysis (EDA)\n",
        "3. Data Pre-processing\n",
        "4. Model Selection\n",
        "5. Evaluation\n",
        "6. Discussion and Possible Improvements\n",
        "\n",
        "## 1. Problem Description\n",
        "\n",
        "### Context\n",
        "\n",
        "There is a lack of public available datasets on financial services and specially in the emerging mobile money transactions domain. Financial datasets are important to many researchers and in particular to us performing research in the domain of fraud detection. Part of the problem is the intrinsically private nature of financial transactions, that leads to no publicly available datasets.\n",
        "\n",
        "We present a synthetic dataset generated using the simulator called PaySim as an approach to such a problem. PaySim uses aggregated data from the private dataset to generate a synthetic dataset that resembles the normal operation of transactions and injects malicious behaviour to later evaluate the performance of fraud detection methods.\n",
        "\n",
        "### Content\n",
        "\n",
        "PaySim simulates mobile money transactions based on a sample of real transactions extracted from one month of financial logs from a mobile money service implemented in an African country. The original logs were provided by a multinational company, who is the provider of the mobile financial service which is currently running in more than 14 countries all around the world.\n",
        "\n",
        "This synthetic dataset is scaled down 1/4 of the original dataset and it is created just for Kaggle.\n",
        "\n",
        "\n",
        "\n",
        "### Headers\n",
        "\n",
        "This is a sample of 1 row with headers explanation:\n",
        "\n",
        "1,PAYMENT,1060.31,C429214117,1089.0,28.69,M1591654462,0.0,0.0,0,0\n",
        "\n",
        "**step** - maps a unit of time in the real world. In this case 1 step is 1 hour of time. Total steps 744 (30 days simulation).\n",
        "\n",
        "**type** - CASH-IN, CASH-OUT, DEBIT, PAYMENT and TRANSFER.\n",
        "\n",
        "**amount** - amount of the transaction in local currency.\n",
        "\n",
        "**nameOrig** - customer who started the transaction\n",
        "\n",
        "**oldbalanceOrg** - initial balance before the transaction\n",
        "\n",
        "**newbalanceOrig** - new balance after the transaction\n",
        "\n",
        "**nameDest** - customer who is the recipient of the transaction\n",
        "\n",
        "**oldbalanceDest** - initial balance recipient before the transaction. Note that there is not information for customers that start with M (Merchants).\n",
        "\n",
        "**newbalanceDest** - new balance recipient after the transaction. Note that there is not information for customers that start with M (Merchants).\n",
        "\n",
        "**isFraud** - This is the transactions made by the fraudulent agents inside the simulation. In this specific dataset the fraudulent behavior of the agents aims to profit by taking control or customers accounts and try to empty the funds by transferring to another account and then cashing out of the system.\n",
        "\n",
        "**isFlaggedFraud** - The business model aims to control massive transfers from one account to another and flags illegal attempts. An illegal attempt in this dataset is an attempt to transfer more than 200.000 in a single transaction."
      ]
    },
    {
      "cell_type": "markdown",
      "metadata": {
        "id": "OSyzJdgprapD",
        "colab_type": "text"
      },
      "source": [
        "## 2. Exploratory Data Analysis\n",
        "\n",
        "The provided data has the financial transaction data as well as the target variable isFraud, which is the actual fraud status of the transaction and isFlaggedFraud is the indicator which the simulation is used to flag the transaction using some threshold.\n",
        "\n",
        "The goal should be how we can improve and come up with better threshold to capture the fraud transaction.\n",
        "\n",
        "### Importing packages and the dataset"
      ]
    },
    {
      "cell_type": "code",
      "metadata": {
        "id": "WDqrJnvJsb-d",
        "colab_type": "code",
        "colab": {}
      },
      "source": [
        "import pandas as pd\n",
        "import numpy as np\n",
        "\n",
        "#!pip install matplotlib\n",
        "import matplotlib.pyplot as plt\n",
        "\n",
        "#!pip install seaborn\n",
        "import seaborn as sns\n",
        "\n",
        "#!pip install plotly\n",
        "from plotly import tools\n",
        "\n",
        "# import train test split\n",
        "from sklearn.model_selection import train_test_split, learning_curve\n",
        "\n",
        "# import metrics\n",
        "from sklearn.metrics import average_precision_score, f1_score\n",
        "\n",
        "# import logistic regression\n",
        "from sklearn.linear_model import LogisticRegression\n",
        "\n",
        "# import SVM\n",
        "from sklearn.ensemble import RandomForestClassifier"
      ],
      "execution_count": 0,
      "outputs": []
    },
    {
      "cell_type": "code",
      "metadata": {
        "id": "qUvJFpYCtBVd",
        "colab_type": "code",
        "outputId": "950271b4-c076-4346-ddce-c098b8ee93cf",
        "colab": {
          "base_uri": "https://localhost:8080/",
          "height": 263
        }
      },
      "source": [
        "#installing and importing packages to link to dataset on drive\n",
        "!pip install PyDrive\n",
        "import os\n",
        "from pydrive.auth import GoogleAuth\n",
        "from pydrive.drive import GoogleDrive\n",
        "from google.colab import auth\n",
        "from oauth2client.client import GoogleCredentials"
      ],
      "execution_count": 0,
      "outputs": [
        {
          "output_type": "stream",
          "text": [
            "Requirement already satisfied: PyDrive in /usr/local/lib/python3.6/dist-packages (1.3.1)\n",
            "Requirement already satisfied: PyYAML>=3.0 in /usr/local/lib/python3.6/dist-packages (from PyDrive) (3.13)\n",
            "Requirement already satisfied: oauth2client>=4.0.0 in /usr/local/lib/python3.6/dist-packages (from PyDrive) (4.1.3)\n",
            "Requirement already satisfied: google-api-python-client>=1.2 in /usr/local/lib/python3.6/dist-packages (from PyDrive) (1.7.11)\n",
            "Requirement already satisfied: six>=1.6.1 in /usr/local/lib/python3.6/dist-packages (from oauth2client>=4.0.0->PyDrive) (1.12.0)\n",
            "Requirement already satisfied: httplib2>=0.9.1 in /usr/local/lib/python3.6/dist-packages (from oauth2client>=4.0.0->PyDrive) (0.11.3)\n",
            "Requirement already satisfied: rsa>=3.1.4 in /usr/local/lib/python3.6/dist-packages (from oauth2client>=4.0.0->PyDrive) (4.0)\n",
            "Requirement already satisfied: pyasn1-modules>=0.0.5 in /usr/local/lib/python3.6/dist-packages (from oauth2client>=4.0.0->PyDrive) (0.2.7)\n",
            "Requirement already satisfied: pyasn1>=0.1.7 in /usr/local/lib/python3.6/dist-packages (from oauth2client>=4.0.0->PyDrive) (0.4.7)\n",
            "Requirement already satisfied: google-auth>=1.4.1 in /usr/local/lib/python3.6/dist-packages (from google-api-python-client>=1.2->PyDrive) (1.4.2)\n",
            "Requirement already satisfied: google-auth-httplib2>=0.0.3 in /usr/local/lib/python3.6/dist-packages (from google-api-python-client>=1.2->PyDrive) (0.0.3)\n",
            "Requirement already satisfied: uritemplate<4dev,>=3.0.0 in /usr/local/lib/python3.6/dist-packages (from google-api-python-client>=1.2->PyDrive) (3.0.0)\n",
            "Requirement already satisfied: cachetools>=2.0.0 in /usr/local/lib/python3.6/dist-packages (from google-auth>=1.4.1->google-api-python-client>=1.2->PyDrive) (3.1.1)\n"
          ],
          "name": "stdout"
        }
      ]
    },
    {
      "cell_type": "code",
      "metadata": {
        "id": "Vqhx1EVYj-Op",
        "colab_type": "code",
        "colab": {}
      },
      "source": [
        "#getting access token for drive\n",
        "auth.authenticate_user()\n",
        "gauth = GoogleAuth()\n",
        "gauth.credentials = GoogleCredentials.get_application_default()\n",
        "drive = GoogleDrive(gauth)"
      ],
      "execution_count": 0,
      "outputs": []
    },
    {
      "cell_type": "code",
      "metadata": {
        "id": "ExBwjLd5mDIR",
        "colab_type": "code",
        "colab": {}
      },
      "source": [
        "#downloading dataset from drive\n",
        "download = drive.CreateFile({'id': '1vKkYiVGys6ShYYD7AuvRK1BBJ02okOLz'})\n",
        "download.GetContentFile('FraudData.tar')"
      ],
      "execution_count": 0,
      "outputs": []
    },
    {
      "cell_type": "code",
      "metadata": {
        "id": "JSItA8ZSmRqq",
        "colab_type": "code",
        "outputId": "edc9f1df-48f5-4439-d621-616dc9374682",
        "colab": {
          "base_uri": "https://localhost:8080/",
          "height": 383
        }
      },
      "source": [
        "#reading dataset\n",
        "df = pd.read_csv('FraudData.tar')\n",
        "#reshaping data\n",
        "df.rename(columns = {df.columns[0]: \"step\"} , inplace = True)\n",
        "#showing first few data\n",
        "df.head(10)\n",
        "\n",
        "\n"
      ],
      "execution_count": 0,
      "outputs": [
        {
          "output_type": "execute_result",
          "data": {
            "text/html": [
              "<div>\n",
              "<style scoped>\n",
              "    .dataframe tbody tr th:only-of-type {\n",
              "        vertical-align: middle;\n",
              "    }\n",
              "\n",
              "    .dataframe tbody tr th {\n",
              "        vertical-align: top;\n",
              "    }\n",
              "\n",
              "    .dataframe thead th {\n",
              "        text-align: right;\n",
              "    }\n",
              "</style>\n",
              "<table border=\"1\" class=\"dataframe\">\n",
              "  <thead>\n",
              "    <tr style=\"text-align: right;\">\n",
              "      <th></th>\n",
              "      <th>step</th>\n",
              "      <th>type</th>\n",
              "      <th>amount</th>\n",
              "      <th>nameOrig</th>\n",
              "      <th>oldbalanceOrg</th>\n",
              "      <th>newbalanceOrig</th>\n",
              "      <th>nameDest</th>\n",
              "      <th>oldbalanceDest</th>\n",
              "      <th>newbalanceDest</th>\n",
              "      <th>isFraud</th>\n",
              "      <th>isFlaggedFraud</th>\n",
              "    </tr>\n",
              "  </thead>\n",
              "  <tbody>\n",
              "    <tr>\n",
              "      <th>0</th>\n",
              "      <td>1.0</td>\n",
              "      <td>PAYMENT</td>\n",
              "      <td>9839.64</td>\n",
              "      <td>C1231006815</td>\n",
              "      <td>170136.00</td>\n",
              "      <td>160296.36</td>\n",
              "      <td>M1979787155</td>\n",
              "      <td>0.0</td>\n",
              "      <td>0.00</td>\n",
              "      <td>0.0</td>\n",
              "      <td>0.0</td>\n",
              "    </tr>\n",
              "    <tr>\n",
              "      <th>1</th>\n",
              "      <td>1.0</td>\n",
              "      <td>PAYMENT</td>\n",
              "      <td>1864.28</td>\n",
              "      <td>C1666544295</td>\n",
              "      <td>21249.00</td>\n",
              "      <td>19384.72</td>\n",
              "      <td>M2044282225</td>\n",
              "      <td>0.0</td>\n",
              "      <td>0.00</td>\n",
              "      <td>0.0</td>\n",
              "      <td>0.0</td>\n",
              "    </tr>\n",
              "    <tr>\n",
              "      <th>2</th>\n",
              "      <td>1.0</td>\n",
              "      <td>TRANSFER</td>\n",
              "      <td>181.00</td>\n",
              "      <td>C1305486145</td>\n",
              "      <td>181.00</td>\n",
              "      <td>0.00</td>\n",
              "      <td>C553264065</td>\n",
              "      <td>0.0</td>\n",
              "      <td>0.00</td>\n",
              "      <td>1.0</td>\n",
              "      <td>0.0</td>\n",
              "    </tr>\n",
              "    <tr>\n",
              "      <th>3</th>\n",
              "      <td>1.0</td>\n",
              "      <td>CASH_OUT</td>\n",
              "      <td>181.00</td>\n",
              "      <td>C840083671</td>\n",
              "      <td>181.00</td>\n",
              "      <td>0.00</td>\n",
              "      <td>C38997010</td>\n",
              "      <td>21182.0</td>\n",
              "      <td>0.00</td>\n",
              "      <td>1.0</td>\n",
              "      <td>0.0</td>\n",
              "    </tr>\n",
              "    <tr>\n",
              "      <th>4</th>\n",
              "      <td>1.0</td>\n",
              "      <td>PAYMENT</td>\n",
              "      <td>11668.14</td>\n",
              "      <td>C2048537720</td>\n",
              "      <td>41554.00</td>\n",
              "      <td>29885.86</td>\n",
              "      <td>M1230701703</td>\n",
              "      <td>0.0</td>\n",
              "      <td>0.00</td>\n",
              "      <td>0.0</td>\n",
              "      <td>0.0</td>\n",
              "    </tr>\n",
              "    <tr>\n",
              "      <th>5</th>\n",
              "      <td>1.0</td>\n",
              "      <td>PAYMENT</td>\n",
              "      <td>7817.71</td>\n",
              "      <td>C90045638</td>\n",
              "      <td>53860.00</td>\n",
              "      <td>46042.29</td>\n",
              "      <td>M573487274</td>\n",
              "      <td>0.0</td>\n",
              "      <td>0.00</td>\n",
              "      <td>0.0</td>\n",
              "      <td>0.0</td>\n",
              "    </tr>\n",
              "    <tr>\n",
              "      <th>6</th>\n",
              "      <td>1.0</td>\n",
              "      <td>PAYMENT</td>\n",
              "      <td>7107.77</td>\n",
              "      <td>C154988899</td>\n",
              "      <td>183195.00</td>\n",
              "      <td>176087.23</td>\n",
              "      <td>M408069119</td>\n",
              "      <td>0.0</td>\n",
              "      <td>0.00</td>\n",
              "      <td>0.0</td>\n",
              "      <td>0.0</td>\n",
              "    </tr>\n",
              "    <tr>\n",
              "      <th>7</th>\n",
              "      <td>1.0</td>\n",
              "      <td>PAYMENT</td>\n",
              "      <td>7861.64</td>\n",
              "      <td>C1912850431</td>\n",
              "      <td>176087.23</td>\n",
              "      <td>168225.59</td>\n",
              "      <td>M633326333</td>\n",
              "      <td>0.0</td>\n",
              "      <td>0.00</td>\n",
              "      <td>0.0</td>\n",
              "      <td>0.0</td>\n",
              "    </tr>\n",
              "    <tr>\n",
              "      <th>8</th>\n",
              "      <td>1.0</td>\n",
              "      <td>PAYMENT</td>\n",
              "      <td>4024.36</td>\n",
              "      <td>C1265012928</td>\n",
              "      <td>2671.00</td>\n",
              "      <td>0.00</td>\n",
              "      <td>M1176932104</td>\n",
              "      <td>0.0</td>\n",
              "      <td>0.00</td>\n",
              "      <td>0.0</td>\n",
              "      <td>0.0</td>\n",
              "    </tr>\n",
              "    <tr>\n",
              "      <th>9</th>\n",
              "      <td>1.0</td>\n",
              "      <td>DEBIT</td>\n",
              "      <td>5337.77</td>\n",
              "      <td>C712410124</td>\n",
              "      <td>41720.00</td>\n",
              "      <td>36382.23</td>\n",
              "      <td>C195600860</td>\n",
              "      <td>41898.0</td>\n",
              "      <td>40348.79</td>\n",
              "      <td>0.0</td>\n",
              "      <td>0.0</td>\n",
              "    </tr>\n",
              "  </tbody>\n",
              "</table>\n",
              "</div>"
            ],
            "text/plain": [
              "   step      type    amount  ... newbalanceDest  isFraud  isFlaggedFraud\n",
              "0   1.0   PAYMENT   9839.64  ...           0.00      0.0             0.0\n",
              "1   1.0   PAYMENT   1864.28  ...           0.00      0.0             0.0\n",
              "2   1.0  TRANSFER    181.00  ...           0.00      1.0             0.0\n",
              "3   1.0  CASH_OUT    181.00  ...           0.00      1.0             0.0\n",
              "4   1.0   PAYMENT  11668.14  ...           0.00      0.0             0.0\n",
              "5   1.0   PAYMENT   7817.71  ...           0.00      0.0             0.0\n",
              "6   1.0   PAYMENT   7107.77  ...           0.00      0.0             0.0\n",
              "7   1.0   PAYMENT   7861.64  ...           0.00      0.0             0.0\n",
              "8   1.0   PAYMENT   4024.36  ...           0.00      0.0             0.0\n",
              "9   1.0     DEBIT   5337.77  ...       40348.79      0.0             0.0\n",
              "\n",
              "[10 rows x 11 columns]"
            ]
          },
          "metadata": {
            "tags": []
          },
          "execution_count": 94
        }
      ]
    },
    {
      "cell_type": "code",
      "metadata": {
        "id": "q4kmDnVUveHY",
        "colab_type": "code",
        "outputId": "c9afc0d8-db95-419c-a718-f1d0d6f6256d",
        "colab": {
          "base_uri": "https://localhost:8080/",
          "height": 642
        }
      },
      "source": [
        "#Quickly look at the dataset sample and other properties.\n",
        "print(df.head(5))\n",
        "print(df.describe())\n",
        "print(df.info())\n"
      ],
      "execution_count": 0,
      "outputs": [
        {
          "output_type": "stream",
          "text": [
            "   step      type    amount  ... newbalanceDest  isFraud  isFlaggedFraud\n",
            "0   1.0   PAYMENT   9839.64  ...            0.0      0.0             0.0\n",
            "1   1.0   PAYMENT   1864.28  ...            0.0      0.0             0.0\n",
            "2   1.0  TRANSFER    181.00  ...            0.0      1.0             0.0\n",
            "3   1.0  CASH_OUT    181.00  ...            0.0      1.0             0.0\n",
            "4   1.0   PAYMENT  11668.14  ...            0.0      0.0             0.0\n",
            "\n",
            "[5 rows x 11 columns]\n",
            "               step        amount  ...       isFraud  isFlaggedFraud\n",
            "count  6.362620e+06  6.362620e+06  ...  6.362620e+06    6.362620e+06\n",
            "mean   2.433972e+02  1.798619e+05  ...  1.290820e-03    2.514687e-06\n",
            "std    1.423320e+02  6.038582e+05  ...  3.590480e-02    1.585775e-03\n",
            "min    1.000000e+00  0.000000e+00  ...  0.000000e+00    0.000000e+00\n",
            "25%    1.560000e+02  1.338957e+04  ...  0.000000e+00    0.000000e+00\n",
            "50%    2.390000e+02  7.487194e+04  ...  0.000000e+00    0.000000e+00\n",
            "75%    3.350000e+02  2.087215e+05  ...  0.000000e+00    0.000000e+00\n",
            "max    7.430000e+02  9.244552e+07  ...  1.000000e+00    1.000000e+00\n",
            "\n",
            "[8 rows x 8 columns]\n",
            "<class 'pandas.core.frame.DataFrame'>\n",
            "RangeIndex: 6362621 entries, 0 to 6362620\n",
            "Data columns (total 11 columns):\n",
            "step              float64\n",
            "type              object\n",
            "amount            float64\n",
            "nameOrig          object\n",
            "oldbalanceOrg     float64\n",
            "newbalanceOrig    float64\n",
            "nameDest          object\n",
            "oldbalanceDest    float64\n",
            "newbalanceDest    float64\n",
            "isFraud           float64\n",
            "isFlaggedFraud    float64\n",
            "dtypes: float64(8), object(3)\n",
            "memory usage: 534.0+ MB\n",
            "None\n"
          ],
          "name": "stdout"
        }
      ]
    },
    {
      "cell_type": "code",
      "metadata": {
        "id": "4rTK147Lwhjl",
        "colab_type": "code",
        "outputId": "547dfca7-6691-4036-8f5a-1b646282fe2c",
        "colab": {
          "base_uri": "https://localhost:8080/",
          "height": 225
        }
      },
      "source": [
        "#check for null values\n",
        "print(df.isnull().sum())"
      ],
      "execution_count": 0,
      "outputs": [
        {
          "output_type": "stream",
          "text": [
            "step              1\n",
            "type              1\n",
            "amount            1\n",
            "nameOrig          1\n",
            "oldbalanceOrg     1\n",
            "newbalanceOrig    1\n",
            "nameDest          1\n",
            "oldbalanceDest    1\n",
            "newbalanceDest    1\n",
            "isFraud           1\n",
            "isFlaggedFraud    1\n",
            "dtype: int64\n"
          ],
          "name": "stdout"
        }
      ]
    },
    {
      "cell_type": "code",
      "metadata": {
        "id": "8_z0XBN_NSM3",
        "colab_type": "code",
        "outputId": "6b6a6bf1-aa1a-418e-8633-4ebde0d61219",
        "colab": {
          "base_uri": "https://localhost:8080/",
          "height": 81
        }
      },
      "source": [
        "#view NA values\n",
        "df[df[\"step\"].isnull() == True]"
      ],
      "execution_count": 0,
      "outputs": [
        {
          "output_type": "execute_result",
          "data": {
            "text/html": [
              "<div>\n",
              "<style scoped>\n",
              "    .dataframe tbody tr th:only-of-type {\n",
              "        vertical-align: middle;\n",
              "    }\n",
              "\n",
              "    .dataframe tbody tr th {\n",
              "        vertical-align: top;\n",
              "    }\n",
              "\n",
              "    .dataframe thead th {\n",
              "        text-align: right;\n",
              "    }\n",
              "</style>\n",
              "<table border=\"1\" class=\"dataframe\">\n",
              "  <thead>\n",
              "    <tr style=\"text-align: right;\">\n",
              "      <th></th>\n",
              "      <th>step</th>\n",
              "      <th>type</th>\n",
              "      <th>amount</th>\n",
              "      <th>nameOrig</th>\n",
              "      <th>oldbalanceOrg</th>\n",
              "      <th>newbalanceOrig</th>\n",
              "      <th>nameDest</th>\n",
              "      <th>oldbalanceDest</th>\n",
              "      <th>newbalanceDest</th>\n",
              "      <th>isFraud</th>\n",
              "      <th>isFlaggedFraud</th>\n",
              "    </tr>\n",
              "  </thead>\n",
              "  <tbody>\n",
              "    <tr>\n",
              "      <th>6362620</th>\n",
              "      <td>NaN</td>\n",
              "      <td>NaN</td>\n",
              "      <td>NaN</td>\n",
              "      <td>NaN</td>\n",
              "      <td>NaN</td>\n",
              "      <td>NaN</td>\n",
              "      <td>NaN</td>\n",
              "      <td>NaN</td>\n",
              "      <td>NaN</td>\n",
              "      <td>NaN</td>\n",
              "      <td>NaN</td>\n",
              "    </tr>\n",
              "  </tbody>\n",
              "</table>\n",
              "</div>"
            ],
            "text/plain": [
              "         step type  amount  ... newbalanceDest  isFraud  isFlaggedFraud\n",
              "6362620   NaN  NaN     NaN  ...            NaN      NaN             NaN\n",
              "\n",
              "[1 rows x 11 columns]"
            ]
          },
          "metadata": {
            "tags": []
          },
          "execution_count": 97
        }
      ]
    },
    {
      "cell_type": "code",
      "metadata": {
        "id": "osk-0T6pNZVr",
        "colab_type": "code",
        "colab": {}
      },
      "source": [
        "#dropping NA values\n",
        "df.dropna(inplace = True)\n",
        "\n"
      ],
      "execution_count": 0,
      "outputs": []
    },
    {
      "cell_type": "markdown",
      "metadata": {
        "id": "BM16Gdk4w3O9",
        "colab_type": "text"
      },
      "source": [
        "### Exploring the features\n"
      ]
    },
    {
      "cell_type": "markdown",
      "metadata": {
        "id": "gCGJcMpqK75P",
        "colab_type": "text"
      },
      "source": [
        "In this section, we will do EDA to understand the data more. From the simulation, there are 5 transaction types as per illustrated below."
      ]
    },
    {
      "cell_type": "code",
      "metadata": {
        "id": "Fk61u3VpLi7O",
        "colab_type": "code",
        "outputId": "cd36cf99-2d1f-4da6-df14-38aa0ef55505",
        "colab": {
          "base_uri": "https://localhost:8080/",
          "height": 646
        }
      },
      "source": [
        "print(df.type.value_counts())\n",
        "\n",
        "f, ax = plt.subplots(1, 1, figsize=(8, 8))\n",
        "df.type.value_counts().plot(kind='bar', title=\"Transaction type\", ax=ax, figsize=(8,8))\n",
        "plt.show()"
      ],
      "execution_count": 0,
      "outputs": [
        {
          "output_type": "stream",
          "text": [
            "CASH_OUT    2237500\n",
            "PAYMENT     2151495\n",
            "CASH_IN     1399284\n",
            "TRANSFER     532909\n",
            "DEBIT         41432\n",
            "Name: type, dtype: int64\n"
          ],
          "name": "stdout"
        },
        {
          "output_type": "display_data",
          "data": {
            "image/png": "[encoded data removed]",
            "text/plain": [
              "<Figure size 576x576 with 1 Axes>"
            ]
          },
          "metadata": {
            "tags": []
          }
        }
      ]
    },
    {
      "cell_type": "code",
      "metadata": {
        "id": "OvJHUqZ8khfD",
        "colab_type": "code",
        "outputId": "a0eada0d-cbce-4758-dbc6-ba497f1e7956",
        "colab": {
          "base_uri": "https://localhost:8080/",
          "height": 52
        }
      },
      "source": [
        "# Percentage of isFraud\n",
        "print(len(df[df.isFraud == 1])/len(df))\n",
        "print(len(df[df.isFraud == 0])/len(df))"
      ],
      "execution_count": 0,
      "outputs": [
        {
          "output_type": "stream",
          "text": [
            "0.001290820448180152\n",
            "0.9987091795518198\n"
          ],
          "name": "stdout"
        }
      ]
    },
    {
      "cell_type": "markdown",
      "metadata": {
        "id": "OFnhL3JOLvv4",
        "colab_type": "text"
      },
      "source": [
        "There are 2 attributes that are intersting to look into: **isFraud** and **isFlaggedFraud** column. *isFraud* indicates the actual fraud transactions whereas *isFlaggedFraud* is what the system prevents transaction due to a threshold (Described when Transfer Amount > 200000)"
      ]
    },
    {
      "cell_type": "code",
      "metadata": {
        "id": "pfkGiLQqOOIf",
        "colab_type": "code",
        "outputId": "f3c7c853-6d9f-4aeb-f516-b3203de346d9",
        "colab": {
          "base_uri": "https://localhost:8080/",
          "height": 104
        }
      },
      "source": [
        "print(\"Type of transactions when isFlaggedFraud is True: {}\".format(set(df.loc[df.isFlaggedFraud == 1].type.drop_duplicates())))\n",
        "\n",
        "# Since the type of transactions affected by isFlaggedFraud is True is only Transfers,\n",
        "# We filter out the others, leaving only transactions of type Transfer inside.\n",
        "dfTransfer = df.loc[df.type == 'TRANSFER']\n",
        "\n",
        "# Filter out where the transactions are listed as isFlaggedFraud == 1\n",
        "dfFlagged = df.loc[df.isFlaggedFraud == 1]\n",
        "\n",
        "# We try to find the minimum amount where transaction is listed as isFlaggedFraud == 1.\n",
        "print('\\nMin amount transacted when isFlaggedFraud == 1 is {}'\n",
        ".format(dfFlagged.amount.min()))\n",
        "\n",
        "# Conversely, we filter out those where the transaction is listed as isFlaggedFraud == 0\n",
        "dfNotFlagged = df.loc[df.isFlaggedFraud == 0]\n",
        "\n",
        "# Next, we find the maximum amount when isFlaggedFraud == 0\n",
        "print('\\nMax amount transacted when isFlaggedFraud == 0 is {}'\n",
        ".format(dfNotFlagged.amount.max()))"
      ],
      "execution_count": 0,
      "outputs": [
        {
          "output_type": "stream",
          "text": [
            "Type of transactions when isFlaggedFraud is True: {'TRANSFER'}\n",
            "\n",
            "Min amount transacted when isFlaggedFraud == 1 is 353874.22\n",
            "\n",
            "Max amount transacted when isFlaggedFraud == 0 is 92445516.64\n"
          ],
          "name": "stdout"
        }
      ]
    },
    {
      "cell_type": "markdown",
      "metadata": {
        "id": "BV5HDUv4Uj20",
        "colab_type": "text"
      },
      "source": [
        "Here, we see that the previous description where isFlaggedFraud will be set to 1 when Transfer Amount > 200000 is incorrect as the highest amount transacted when isFlaggedFraud == 0 is more than 200000."
      ]
    },
    {
      "cell_type": "markdown",
      "metadata": {
        "id": "BCQouYPFU674",
        "colab_type": "text"
      },
      "source": [
        "However, let's take a closer look at the isFlaggedFraud column."
      ]
    },
    {
      "cell_type": "code",
      "metadata": {
        "id": "bwW2fkdDXYzG",
        "colab_type": "code",
        "outputId": "b71ecb20-9e41-47d6-db18-19dade10b304",
        "colab": {
          "base_uri": "https://localhost:8080/",
          "height": 610
        }
      },
      "source": [
        "fig, axs = plt.subplots(2,2, figsize=(10,10))\n",
        "\n",
        "amountWhenFlaggedFraud = sns.boxplot(x = 'isFlaggedFraud', y = 'amount', data = dfTransfer, ax = axs[0][0])\n",
        "axs[0][0].set_yscale('log')\n",
        "\n",
        "destWhenFlaggedFraud = sns.boxplot(x = 'isFlaggedFraud', y = 'oldbalanceDest', data = dfTransfer, ax = axs[0][1])\n",
        "axs[0][1].set(ylim = (0,5e6))\n",
        "\n",
        "orgWhenFlaggedFraud = sns.boxplot(x = 'isFlaggedFraud', y = 'oldbalanceOrg', data = dfTransfer, ax = axs[1][0])\n",
        "axs[1][0].set(ylim = (0, 3e7))\n",
        "\n",
        "amountandorg = sns.regplot(x = 'oldbalanceOrg',y = 'amount',data = dfFlagged, ax = axs[1][1])\n"
      ],
      "execution_count": 0,
      "outputs": [
        {
          "output_type": "display_data",
          "data": {
            "image/png": "[encoded data removed]",
            "text/plain": [
              "<Figure size 720x720 with 4 Axes>"
            ]
          },
          "metadata": {
            "tags": []
          }
        }
      ]
    },
    {
      "cell_type": "markdown",
      "metadata": {
        "id": "ktzttbgwdChp",
        "colab_type": "text"
      },
      "source": [
        "It looks like **isFlaggedFraud** relies on **oldbalanceOrg**, which is 0 and some threshold on the amount variable. "
      ]
    },
    {
      "cell_type": "code",
      "metadata": {
        "id": "_KUjrO47iz5A",
        "colab_type": "code",
        "outputId": "912cc7ad-12ff-4d00-959d-58942a2cfa65",
        "colab": {
          "base_uri": "https://localhost:8080/",
          "height": 206
        }
      },
      "source": [
        "# Drop isFlaggedFraud from data\n",
        "df.drop([\"isFlaggedFraud\"],axis = 1,inplace=True)\n",
        "df.head()"
      ],
      "execution_count": 0,
      "outputs": [
        {
          "output_type": "execute_result",
          "data": {
            "text/html": [
              "<div>\n",
              "<style scoped>\n",
              "    .dataframe tbody tr th:only-of-type {\n",
              "        vertical-align: middle;\n",
              "    }\n",
              "\n",
              "    .dataframe tbody tr th {\n",
              "        vertical-align: top;\n",
              "    }\n",
              "\n",
              "    .dataframe thead th {\n",
              "        text-align: right;\n",
              "    }\n",
              "</style>\n",
              "<table border=\"1\" class=\"dataframe\">\n",
              "  <thead>\n",
              "    <tr style=\"text-align: right;\">\n",
              "      <th></th>\n",
              "      <th>step</th>\n",
              "      <th>type</th>\n",
              "      <th>amount</th>\n",
              "      <th>nameOrig</th>\n",
              "      <th>oldbalanceOrg</th>\n",
              "      <th>newbalanceOrig</th>\n",
              "      <th>nameDest</th>\n",
              "      <th>oldbalanceDest</th>\n",
              "      <th>newbalanceDest</th>\n",
              "      <th>isFraud</th>\n",
              "    </tr>\n",
              "  </thead>\n",
              "  <tbody>\n",
              "    <tr>\n",
              "      <th>0</th>\n",
              "      <td>1.0</td>\n",
              "      <td>PAYMENT</td>\n",
              "      <td>9839.64</td>\n",
              "      <td>C1231006815</td>\n",
              "      <td>170136.0</td>\n",
              "      <td>160296.36</td>\n",
              "      <td>M1979787155</td>\n",
              "      <td>0.0</td>\n",
              "      <td>0.0</td>\n",
              "      <td>0.0</td>\n",
              "    </tr>\n",
              "    <tr>\n",
              "      <th>1</th>\n",
              "      <td>1.0</td>\n",
              "      <td>PAYMENT</td>\n",
              "      <td>1864.28</td>\n",
              "      <td>C1666544295</td>\n",
              "      <td>21249.0</td>\n",
              "      <td>19384.72</td>\n",
              "      <td>M2044282225</td>\n",
              "      <td>0.0</td>\n",
              "      <td>0.0</td>\n",
              "      <td>0.0</td>\n",
              "    </tr>\n",
              "    <tr>\n",
              "      <th>2</th>\n",
              "      <td>1.0</td>\n",
              "      <td>TRANSFER</td>\n",
              "      <td>181.00</td>\n",
              "      <td>C1305486145</td>\n",
              "      <td>181.0</td>\n",
              "      <td>0.00</td>\n",
              "      <td>C553264065</td>\n",
              "      <td>0.0</td>\n",
              "      <td>0.0</td>\n",
              "      <td>1.0</td>\n",
              "    </tr>\n",
              "    <tr>\n",
              "      <th>3</th>\n",
              "      <td>1.0</td>\n",
              "      <td>CASH_OUT</td>\n",
              "      <td>181.00</td>\n",
              "      <td>C840083671</td>\n",
              "      <td>181.0</td>\n",
              "      <td>0.00</td>\n",
              "      <td>C38997010</td>\n",
              "      <td>21182.0</td>\n",
              "      <td>0.0</td>\n",
              "      <td>1.0</td>\n",
              "    </tr>\n",
              "    <tr>\n",
              "      <th>4</th>\n",
              "      <td>1.0</td>\n",
              "      <td>PAYMENT</td>\n",
              "      <td>11668.14</td>\n",
              "      <td>C2048537720</td>\n",
              "      <td>41554.0</td>\n",
              "      <td>29885.86</td>\n",
              "      <td>M1230701703</td>\n",
              "      <td>0.0</td>\n",
              "      <td>0.0</td>\n",
              "      <td>0.0</td>\n",
              "    </tr>\n",
              "  </tbody>\n",
              "</table>\n",
              "</div>"
            ],
            "text/plain": [
              "   step      type    amount  ... oldbalanceDest  newbalanceDest  isFraud\n",
              "0   1.0   PAYMENT   9839.64  ...            0.0             0.0      0.0\n",
              "1   1.0   PAYMENT   1864.28  ...            0.0             0.0      0.0\n",
              "2   1.0  TRANSFER    181.00  ...            0.0             0.0      1.0\n",
              "3   1.0  CASH_OUT    181.00  ...        21182.0             0.0      1.0\n",
              "4   1.0   PAYMENT  11668.14  ...            0.0             0.0      0.0\n",
              "\n",
              "[5 rows x 10 columns]"
            ]
          },
          "metadata": {
            "tags": []
          },
          "execution_count": 103
        }
      ]
    },
    {
      "cell_type": "markdown",
      "metadata": {
        "id": "pIjSRQk7mIqk",
        "colab_type": "text"
      },
      "source": [
        "Next, we take a look at **isFraud** factor."
      ]
    },
    {
      "cell_type": "code",
      "metadata": {
        "id": "OcaX23fqmQ6B",
        "colab_type": "code",
        "outputId": "db7a6964-4963-459a-c51f-24a4d0a20795",
        "colab": {
          "base_uri": "https://localhost:8080/",
          "height": 34
        }
      },
      "source": [
        "print(\"Type of transactions when isFraud is True: {}\".format(set(df.loc[df.isFraud == 1].type.drop_duplicates())))"
      ],
      "execution_count": 0,
      "outputs": [
        {
          "output_type": "stream",
          "text": [
            "Type of transactions when isFraud is True: {'CASH_OUT', 'TRANSFER'}\n"
          ],
          "name": "stdout"
        }
      ]
    },
    {
      "cell_type": "markdown",
      "metadata": {
        "id": "8aplUyv3mZDB",
        "colab_type": "text"
      },
      "source": [
        "Since the type of transactions that are determined to be fraudulent is of type transfer and cash out, we remove all types of transactions that are not transfers or cashouts."
      ]
    },
    {
      "cell_type": "code",
      "metadata": {
        "id": "nGrTssEvmkjp",
        "colab_type": "code",
        "colab": {}
      },
      "source": [
        "dfFraud = df.loc[(df.type == 'TRANSFER') | (df.type == 'CASH_OUT')]"
      ],
      "execution_count": 0,
      "outputs": []
    },
    {
      "cell_type": "markdown",
      "metadata": {
        "id": "5KRvWiWi-cR8",
        "colab_type": "text"
      },
      "source": [
        "# Relevance of account labels\n",
        "\n",
        "According to data description, fraud is when there is a transfer to a fraudulent account which then tries to perform a cashout. Therefore, we try to find the similarities between the destination account of a transfer and the original account of a cashout. "
      ]
    },
    {
      "cell_type": "code",
      "metadata": {
        "id": "-7m9tuxD-1Hn",
        "colab_type": "code",
        "outputId": "88940802-12f1-4e48-83a2-643cc1bf8671",
        "colab": {
          "base_uri": "https://localhost:8080/",
          "height": 34
        }
      },
      "source": [
        "fraudDestTransfer = dfTransfer.loc[dfTransfer.isFraud == 1].nameDest.drop_duplicates()\n",
        "\n",
        "dfCashout = df.loc[df.type == 'CASH_OUT']\n",
        "\n",
        "fraudOrigCashout = dfCashout.loc[dfCashout.isFraud == 1].nameOrig.drop_duplicates()\n",
        "\n",
        "print(\"Within fraudulent transactions, are there destinations for Transfers that are also originators for Cash_Out? {}\".\\\n",
        "      format((fraudDestTransfer.isin(fraudOrigCashout).any())))"
      ],
      "execution_count": 0,
      "outputs": [
        {
          "output_type": "stream",
          "text": [
            "Within fraudulent transactions, are there destinations for Transfers that are also originators for Cash_Out? False\n"
          ],
          "name": "stdout"
        }
      ]
    },
    {
      "cell_type": "markdown",
      "metadata": {
        "id": "gGeXqHNUDMze",
        "colab_type": "text"
      },
      "source": [
        "Therefore, we can drop the nameDest and nameOrig columns since there is no relationship between nameDest accounts of Transfer transactions and nameOrig of CashOut transactions"
      ]
    },
    {
      "cell_type": "code",
      "metadata": {
        "id": "nHxcWAMRDhHl",
        "colab_type": "code",
        "outputId": "2b849c3b-9d71-4f76-bf8f-9c22e099a6cd",
        "colab": {
          "base_uri": "https://localhost:8080/",
          "height": 328
        }
      },
      "source": [
        "dfFraud.drop([\"nameDest\", \"nameOrig\"], axis = 1, inplace = True)\n",
        "dfFraud.head()"
      ],
      "execution_count": 0,
      "outputs": [
        {
          "output_type": "stream",
          "text": [
            "/usr/local/lib/python3.6/dist-packages/pandas/core/frame.py:4117: SettingWithCopyWarning:\n",
            "\n",
            "\n",
            "A value is trying to be set on a copy of a slice from a DataFrame\n",
            "\n",
            "See the caveats in the documentation: http://pandas.pydata.org/pandas-docs/stable/user_guide/indexing.html#returning-a-view-versus-a-copy\n",
            "\n"
          ],
          "name": "stderr"
        },
        {
          "output_type": "execute_result",
          "data": {
            "text/html": [
              "<div>\n",
              "<style scoped>\n",
              "    .dataframe tbody tr th:only-of-type {\n",
              "        vertical-align: middle;\n",
              "    }\n",
              "\n",
              "    .dataframe tbody tr th {\n",
              "        vertical-align: top;\n",
              "    }\n",
              "\n",
              "    .dataframe thead th {\n",
              "        text-align: right;\n",
              "    }\n",
              "</style>\n",
              "<table border=\"1\" class=\"dataframe\">\n",
              "  <thead>\n",
              "    <tr style=\"text-align: right;\">\n",
              "      <th></th>\n",
              "      <th>step</th>\n",
              "      <th>type</th>\n",
              "      <th>amount</th>\n",
              "      <th>oldbalanceOrg</th>\n",
              "      <th>newbalanceOrig</th>\n",
              "      <th>oldbalanceDest</th>\n",
              "      <th>newbalanceDest</th>\n",
              "      <th>isFraud</th>\n",
              "    </tr>\n",
              "  </thead>\n",
              "  <tbody>\n",
              "    <tr>\n",
              "      <th>2</th>\n",
              "      <td>1.0</td>\n",
              "      <td>TRANSFER</td>\n",
              "      <td>181.00</td>\n",
              "      <td>181.0</td>\n",
              "      <td>0.0</td>\n",
              "      <td>0.0</td>\n",
              "      <td>0.00</td>\n",
              "      <td>1.0</td>\n",
              "    </tr>\n",
              "    <tr>\n",
              "      <th>3</th>\n",
              "      <td>1.0</td>\n",
              "      <td>CASH_OUT</td>\n",
              "      <td>181.00</td>\n",
              "      <td>181.0</td>\n",
              "      <td>0.0</td>\n",
              "      <td>21182.0</td>\n",
              "      <td>0.00</td>\n",
              "      <td>1.0</td>\n",
              "    </tr>\n",
              "    <tr>\n",
              "      <th>15</th>\n",
              "      <td>1.0</td>\n",
              "      <td>CASH_OUT</td>\n",
              "      <td>229133.94</td>\n",
              "      <td>15325.0</td>\n",
              "      <td>0.0</td>\n",
              "      <td>5083.0</td>\n",
              "      <td>51513.44</td>\n",
              "      <td>0.0</td>\n",
              "    </tr>\n",
              "    <tr>\n",
              "      <th>19</th>\n",
              "      <td>1.0</td>\n",
              "      <td>TRANSFER</td>\n",
              "      <td>215310.30</td>\n",
              "      <td>705.0</td>\n",
              "      <td>0.0</td>\n",
              "      <td>22425.0</td>\n",
              "      <td>0.00</td>\n",
              "      <td>0.0</td>\n",
              "    </tr>\n",
              "    <tr>\n",
              "      <th>24</th>\n",
              "      <td>1.0</td>\n",
              "      <td>TRANSFER</td>\n",
              "      <td>311685.89</td>\n",
              "      <td>10835.0</td>\n",
              "      <td>0.0</td>\n",
              "      <td>6267.0</td>\n",
              "      <td>2719172.89</td>\n",
              "      <td>0.0</td>\n",
              "    </tr>\n",
              "  </tbody>\n",
              "</table>\n",
              "</div>"
            ],
            "text/plain": [
              "    step      type     amount  ...  oldbalanceDest  newbalanceDest  isFraud\n",
              "2    1.0  TRANSFER     181.00  ...             0.0            0.00      1.0\n",
              "3    1.0  CASH_OUT     181.00  ...         21182.0            0.00      1.0\n",
              "15   1.0  CASH_OUT  229133.94  ...          5083.0        51513.44      0.0\n",
              "19   1.0  TRANSFER  215310.30  ...         22425.0            0.00      0.0\n",
              "24   1.0  TRANSFER  311685.89  ...          6267.0      2719172.89      0.0\n",
              "\n",
              "[5 rows x 8 columns]"
            ]
          },
          "metadata": {
            "tags": []
          },
          "execution_count": 107
        }
      ]
    },
    {
      "cell_type": "markdown",
      "metadata": {
        "id": "Z1Uv4Q0lhp5l",
        "colab_type": "text"
      },
      "source": [
        "# Data cleaning"
      ]
    },
    {
      "cell_type": "code",
      "metadata": {
        "id": "gG2Mvw6RoR09",
        "colab_type": "code",
        "outputId": "0bf6911c-1c12-4faf-841f-658977a4519d",
        "colab": {
          "base_uri": "https://localhost:8080/",
          "height": 295
        }
      },
      "source": [
        "# Binary encode type of transaction\n",
        "dfFraud.loc[dfFraud.type == 'TRANSFER', 'type'] = 0\n",
        "dfFraud.loc[dfFraud.type == 'CASH_OUT', 'type'] = 1\n",
        "dfFraud.type = dfFraud.type.astype(int) \n",
        "\n",
        "dfIsFraudCol = dfFraud['isFraud']\n",
        "\n",
        "dfIsFraud = dfFraud.loc[df.isFraud == 1]\n",
        "dfNotFraud = dfFraud.loc[df.isFraud == 0]\n"
      ],
      "execution_count": 0,
      "outputs": [
        {
          "output_type": "stream",
          "text": [
            "/usr/local/lib/python3.6/dist-packages/pandas/core/indexing.py:494: SettingWithCopyWarning:\n",
            "\n",
            "\n",
            "A value is trying to be set on a copy of a slice from a DataFrame.\n",
            "Try using .loc[row_indexer,col_indexer] = value instead\n",
            "\n",
            "See the caveats in the documentation: http://pandas.pydata.org/pandas-docs/stable/user_guide/indexing.html#returning-a-view-versus-a-copy\n",
            "\n",
            "/usr/local/lib/python3.6/dist-packages/pandas/core/generic.py:5208: SettingWithCopyWarning:\n",
            "\n",
            "\n",
            "A value is trying to be set on a copy of a slice from a DataFrame.\n",
            "Try using .loc[row_indexer,col_indexer] = value instead\n",
            "\n",
            "See the caveats in the documentation: http://pandas.pydata.org/pandas-docs/stable/user_guide/indexing.html#returning-a-view-versus-a-copy\n",
            "\n"
          ],
          "name": "stderr"
        }
      ]
    },
    {
      "cell_type": "markdown",
      "metadata": {
        "id": "D9XGqFlx2M0e",
        "colab_type": "text"
      },
      "source": [
        "# Input of latent variables"
      ]
    },
    {
      "cell_type": "code",
      "metadata": {
        "id": "ACI7aQSJyTD2",
        "colab_type": "code",
        "outputId": "8788929b-7f9f-437c-8b4f-413e4b4f2d72",
        "colab": {
          "base_uri": "https://localhost:8080/",
          "height": 106
        }
      },
      "source": [
        "print('\\nThe fraction of fraudulent transactions with \\'oldBalanceDest\\' = \\\n",
        "\\'newBalanceDest\\' = 0 although the transacted \\'amount\\' is non-zero is: {}'.\\\n",
        "format(len(dfIsFraud.loc[(dfIsFraud.oldbalanceDest == 0) & \\\n",
        "(dfIsFraud.newbalanceDest == 0) & (dfIsFraud.amount)]) / (1.0 * len(dfIsFraud))))\n",
        "\n",
        "print('\\nThe fraction of genuine transactions with \\'oldBalanceDest\\' = \\\n",
        "newBalanceDest\\' = 0 although the transacted \\'amount\\' is non-zero is: {}'.\\\n",
        "format(len(dfNotFraud.loc[(dfNotFraud.oldbalanceDest == 0) & \\\n",
        "(dfNotFraud.newbalanceDest == 0) & (dfNotFraud.amount)]) / (1.0 * len(dfNotFraud))))"
      ],
      "execution_count": 0,
      "outputs": [
        {
          "output_type": "stream",
          "text": [
            "\n",
            "The fraction of fraudulent transactions with 'oldBalanceDest' = 'newBalanceDest' = 0 although the transacted 'amount' is non-zero is: 0.4955558261293072\n",
            "\n",
            "The fraction of genuine transactions with 'oldBalanceDest' = newBalanceDest' = 0 although the transacted 'amount' is non-zero is: 0.0006176245277308345\n"
          ],
          "name": "stdout"
        }
      ]
    },
    {
      "cell_type": "markdown",
      "metadata": {
        "id": "-ELn2nQ-whMX",
        "colab_type": "text"
      },
      "source": [
        "The dataset has several transactions with 0 balances in the destination account before and after a non-zero ammount is transacted. The fraction of such transactions is much higher in fradulent cases compared to the genuine transactions. To remove the confusion between genuine and fraudulent transactions, we replace the 0 which originally denote the failure in transaction with -1 for fraudulent transactions.\n"
      ]
    },
    {
      "cell_type": "code",
      "metadata": {
        "id": "RCPh0NHIz2ud",
        "colab_type": "code",
        "outputId": "81937b73-ac93-40a7-f4d4-38966336a4db",
        "colab": {
          "base_uri": "https://localhost:8080/",
          "height": 156
        }
      },
      "source": [
        "dfFraud.loc[(dfFraud.oldbalanceDest == 0) & (dfFraud.newbalanceDest == 0) & (dfFraud.amount != 0), ['oldbalanceDest', 'newbalanceDest']] = -1"
      ],
      "execution_count": 0,
      "outputs": [
        {
          "output_type": "stream",
          "text": [
            "/usr/local/lib/python3.6/dist-packages/pandas/core/indexing.py:494: SettingWithCopyWarning:\n",
            "\n",
            "\n",
            "A value is trying to be set on a copy of a slice from a DataFrame.\n",
            "Try using .loc[row_indexer,col_indexer] = value instead\n",
            "\n",
            "See the caveats in the documentation: http://pandas.pydata.org/pandas-docs/stable/user_guide/indexing.html#returning-a-view-versus-a-copy\n",
            "\n"
          ],
          "name": "stderr"
        }
      ]
    },
    {
      "cell_type": "markdown",
      "metadata": {
        "id": "7qX319fD0ePD",
        "colab_type": "text"
      },
      "source": [
        "The zero balances problem was also found present in the original accounts, where a non-zero amount is transacted. This was rectified by changing the 0 value to a null value."
      ]
    },
    {
      "cell_type": "code",
      "metadata": {
        "id": "veTZsIh_1g1o",
        "colab_type": "code",
        "outputId": "74eedf79-2af1-4807-a1a6-392d396b9bfe",
        "colab": {
          "base_uri": "https://localhost:8080/",
          "height": 156
        }
      },
      "source": [
        "dfFraud.loc[(dfFraud.oldbalanceOrg == 0) & (dfFraud.newbalanceOrig == 0) & (dfFraud.amount != 0), ['oldbalanceOrg', 'newbalanceOrig']] = np.nan"
      ],
      "execution_count": 0,
      "outputs": [
        {
          "output_type": "stream",
          "text": [
            "/usr/local/lib/python3.6/dist-packages/pandas/core/indexing.py:494: SettingWithCopyWarning:\n",
            "\n",
            "\n",
            "A value is trying to be set on a copy of a slice from a DataFrame.\n",
            "Try using .loc[row_indexer,col_indexer] = value instead\n",
            "\n",
            "See the caveats in the documentation: http://pandas.pydata.org/pandas-docs/stable/user_guide/indexing.html#returning-a-view-versus-a-copy\n",
            "\n"
          ],
          "name": "stderr"
        }
      ]
    },
    {
      "cell_type": "markdown",
      "metadata": {
        "id": "FQkRebkR8cYo",
        "colab_type": "text"
      },
      "source": [
        "# Undersampling data\n",
        "\n",
        "As the data is severely filled with non-fraudulent transactions, we need to undersample the non-fraudulent transactions to match the number of fraudulent transactions"
      ]
    },
    {
      "cell_type": "code",
      "metadata": {
        "id": "4T3dsO0689AI",
        "colab_type": "code",
        "outputId": "403259c8-9419-45a6-b36c-b2333d07bc2a",
        "colab": {
          "base_uri": "https://localhost:8080/",
          "height": 34
        }
      },
      "source": [
        "# Number of fraudulent transactions\n",
        "print(\"Number of Fraud Data: {}\".format(len(dfIsFraud)))"
      ],
      "execution_count": 0,
      "outputs": [
        {
          "output_type": "stream",
          "text": [
            "Number of Fraud Data: 8213\n"
          ],
          "name": "stdout"
        }
      ]
    },
    {
      "cell_type": "code",
      "metadata": {
        "id": "WrptCv5X9FiS",
        "colab_type": "code",
        "outputId": "2fddf604-0062-46d5-b907-c3e9f00484d9",
        "colab": {
          "base_uri": "https://localhost:8080/",
          "height": 34
        }
      },
      "source": [
        "# Undersample fraudulent data\n",
        "dfNotFraud = dfNotFraud.sample(n = 8213)\n",
        "dfFraud = pd.concat([dfNotFraud,dfIsFraud])\n",
        "print(len(dfFraud))"
      ],
      "execution_count": 0,
      "outputs": [
        {
          "output_type": "stream",
          "text": [
            "16426\n"
          ],
          "name": "stdout"
        }
      ]
    },
    {
      "cell_type": "markdown",
      "metadata": {
        "id": "CTBfw25N2mBR",
        "colab_type": "text"
      },
      "source": [
        "# Feature engineering\n",
        "Using the zero balances as the differentiating factor between fraudulent and genuine transactions, we can create two new features recording the errors between balances of the original account and destination account."
      ]
    },
    {
      "cell_type": "code",
      "metadata": {
        "id": "_Mh7gxWu3jns",
        "colab_type": "code",
        "colab": {}
      },
      "source": [
        "dfFraud['errorbalanceOrig'] = dfFraud.newbalanceOrig + dfFraud.amount - dfFraud.oldbalanceOrg\n",
        "dfFraud['errorbalanceDest'] = dfFraud.newbalanceDest + dfFraud.amount - dfFraud.oldbalanceDest"
      ],
      "execution_count": 0,
      "outputs": []
    },
    {
      "cell_type": "markdown",
      "metadata": {
        "id": "LQgqeISA4JfS",
        "colab_type": "text"
      },
      "source": [
        "# Data visualisation\n",
        "\n",
        "We try to visualise the differences between fraudulent transactions and non-fraudulent transactions as follows:"
      ]
    },
    {
      "cell_type": "code",
      "metadata": {
        "id": "pgz6A3OH4jwX",
        "colab_type": "code",
        "outputId": "c80b1b45-089e-4801-bdab-64b3564df404",
        "colab": {
          "base_uri": "https://localhost:8080/",
          "height": 647
        }
      },
      "source": [
        "# Update with the cleaned data\n",
        "dfIsFraud = dfFraud[dfFraud.isFraud == 1]\n",
        "dfNotFraud = dfFraud[dfFraud.isFraud == 0]\n",
        "\n",
        "grid_kws = {\"width_ratios\": (.9, .9, 0.01), \"wspace\": 0.2}\n",
        "f, (ax1, ax2, cbar_ax) = plt.subplots(1, 3, gridspec_kw=grid_kws, \\\n",
        "                                     figsize = (14, 9))\n",
        "\n",
        "fraud_corr = dfIsFraud.loc[:, dfFraud.columns != \"step\"].corr()\n",
        "ax1 = sns.heatmap(fraud_corr, ax = ax1, cmap = \"RdYlGn\")\n",
        "ax1.set_title(\"Fraudulent Transactions\")\n",
        "\n",
        "\n",
        "notfraud_corr = dfNotFraud.loc[:, dfFraud.columns != \"step\"].corr()\n",
        "ax2 = sns.heatmap(notfraud_corr, ax = ax2, cmap = \"RdYlGn\")\n",
        "ax2.set_title(\"Genuine Transactions\")\n",
        "\n"
      ],
      "execution_count": 0,
      "outputs": [
        {
          "output_type": "execute_result",
          "data": {
            "text/plain": [
              "Text(0.5, 1, 'Genuine Transactions')"
            ]
          },
          "metadata": {
            "tags": []
          },
          "execution_count": 115
        },
        {
          "output_type": "display_data",
          "data": {
            "image/png": "[encoded data removed]",
            "text/plain": [
              "<Figure size 1008x648 with 5 Axes>"
            ]
          },
          "metadata": {
            "tags": []
          }
        }
      ]
    },
    {
      "cell_type": "markdown",
      "metadata": {
        "id": "-0P6gc5H5rdY",
        "colab_type": "text"
      },
      "source": [
        "# Train-Test Split"
      ]
    },
    {
      "cell_type": "code",
      "metadata": {
        "id": "ddLq7OvC6w94",
        "colab_type": "code",
        "colab": {}
      },
      "source": [
        "Y = dfFraud['isFraud']\n",
        "del dfFraud['isFraud']\n",
        "X = dfFraud"
      ],
      "execution_count": 0,
      "outputs": []
    },
    {
      "cell_type": "code",
      "metadata": {
        "id": "feuxQ1ao5wim",
        "colab_type": "code",
        "colab": {}
      },
      "source": [
        "randomstate = 123\n",
        "\n",
        "np.random.seed(randomstate)\n",
        "\n",
        "trainX, testX, trainY, testY = train_test_split(X, Y, test_size = 0.3, random_state = randomstate)"
      ],
      "execution_count": 0,
      "outputs": []
    },
    {
      "cell_type": "markdown",
      "metadata": {
        "id": "gze4Ho247Aik",
        "colab_type": "text"
      },
      "source": [
        "# Apply Logistic Regression"
      ]
    },
    {
      "cell_type": "code",
      "metadata": {
        "id": "jf1IqJvE7EgS",
        "colab_type": "code",
        "outputId": "5b73949c-c0af-4d76-a576-27c215d33ea7",
        "colab": {
          "base_uri": "https://localhost:8080/",
          "height": 173
        }
      },
      "source": [
        "LR = LogisticRegression()\n",
        "LR.fit(trainX, trainY)"
      ],
      "execution_count": 0,
      "outputs": [
        {
          "output_type": "stream",
          "text": [
            "/usr/local/lib/python3.6/dist-packages/sklearn/linear_model/logistic.py:432: FutureWarning:\n",
            "\n",
            "Default solver will be changed to 'lbfgs' in 0.22. Specify a solver to silence this warning.\n",
            "\n"
          ],
          "name": "stderr"
        },
        {
          "output_type": "execute_result",
          "data": {
            "text/plain": [
              "LogisticRegression(C=1.0, class_weight=None, dual=False, fit_intercept=True,\n",
              "                   intercept_scaling=1, l1_ratio=None, max_iter=100,\n",
              "                   multi_class='warn', n_jobs=None, penalty='l2',\n",
              "                   random_state=None, solver='warn', tol=0.0001, verbose=0,\n",
              "                   warm_start=False)"
            ]
          },
          "metadata": {
            "tags": []
          },
          "execution_count": 118
        }
      ]
    },
    {
      "cell_type": "code",
      "metadata": {
        "id": "68kqmNtrEGoM",
        "colab_type": "code",
        "outputId": "9529b4a6-0ef4-4485-fd69-f3bc22e8ba26",
        "colab": {
          "base_uri": "https://localhost:8080/",
          "height": 52
        }
      },
      "source": [
        "predictions = LR.predict(testX)\n",
        "\n",
        "print(\"F1 Score: {}\".format(f1_score(testY, predictions, average = 'weighted')))\n",
        "\n",
        "print('AUPRC : {}'.format(average_precision_score(testY, predictions)))"
      ],
      "execution_count": 0,
      "outputs": [
        {
          "output_type": "stream",
          "text": [
            "F1 Score: 0.9208756613339916\n",
            "AUPRC : 0.8724269984949414\n"
          ],
          "name": "stdout"
        }
      ]
    },
    {
      "cell_type": "markdown",
      "metadata": {
        "id": "MrIeJs1sFyNA",
        "colab_type": "text"
      },
      "source": [
        "# Apply Random Forest"
      ]
    },
    {
      "cell_type": "code",
      "metadata": {
        "id": "3bbrAAnIF1yv",
        "colab_type": "code",
        "outputId": "15adaab7-af60-4ec3-8b1d-eac129040184",
        "colab": {
          "base_uri": "https://localhost:8080/",
          "height": 208
        }
      },
      "source": [
        "rf = RandomForestClassifier()\n",
        "rf.fit(trainX, trainY)"
      ],
      "execution_count": 0,
      "outputs": [
        {
          "output_type": "stream",
          "text": [
            "/usr/local/lib/python3.6/dist-packages/sklearn/ensemble/forest.py:245: FutureWarning:\n",
            "\n",
            "The default value of n_estimators will change from 10 in version 0.20 to 100 in 0.22.\n",
            "\n"
          ],
          "name": "stderr"
        },
        {
          "output_type": "execute_result",
          "data": {
            "text/plain": [
              "RandomForestClassifier(bootstrap=True, class_weight=None, criterion='gini',\n",
              "                       max_depth=None, max_features='auto', max_leaf_nodes=None,\n",
              "                       min_impurity_decrease=0.0, min_impurity_split=None,\n",
              "                       min_samples_leaf=1, min_samples_split=2,\n",
              "                       min_weight_fraction_leaf=0.0, n_estimators=10,\n",
              "                       n_jobs=None, oob_score=False, random_state=None,\n",
              "                       verbose=0, warm_start=False)"
            ]
          },
          "metadata": {
            "tags": []
          },
          "execution_count": 120
        }
      ]
    },
    {
      "cell_type": "code",
      "metadata": {
        "id": "kQvvhv3vGpv0",
        "colab_type": "code",
        "outputId": "e4d7cba7-e4c1-4216-fc6b-6b136e9af4b6",
        "colab": {
          "base_uri": "https://localhost:8080/",
          "height": 52
        }
      },
      "source": [
        "rfPredict = rf.predict(testX)\n",
        "\n",
        "print(\"F1 Score: {}\".format(f1_score(testY, rfPredict, average = 'weighted')))\n",
        "\n",
        "print('AUPRC : {}'.format(average_precision_score(testY, rfPredict)))"
      ],
      "execution_count": 0,
      "outputs": [
        {
          "output_type": "stream",
          "text": [
            "F1 Score: 0.9981737007722861\n",
            "AUPRC : 0.9979753857454136\n"
          ],
          "name": "stdout"
        }
      ]
    },
    {
      "cell_type": "markdown",
      "metadata": {
        "id": "U7h_6ZEUOaop",
        "colab_type": "text"
      },
      "source": [
        "# Analysing Results"
      ]
    },
    {
      "cell_type": "code",
      "metadata": {
        "id": "CXQVTh5tOd-I",
        "colab_type": "code",
        "colab": {}
      },
      "source": [
        "from sklearn.metrics import confusion_matrix, roc_curve, auc\n",
        "\n",
        "import itertools\n",
        "\n",
        "def plot_confusion_matrix(cm, classes,\n",
        "                          normalize=False,\n",
        "                          title='Confusion matrix',\n",
        "                          cmap=plt.cm.Blues):\n",
        "    \"\"\"\n",
        "    This function prints and plots the confusion matrix.\n",
        "    Normalization can be applied by setting `normalize=True`.\n",
        "    \"\"\"\n",
        "    plt.imshow(cm, interpolation='nearest', cmap=cmap)\n",
        "    plt.title(title)\n",
        "    plt.colorbar()\n",
        "    tick_marks = np.arange(len(classes))\n",
        "    plt.xticks(tick_marks, classes, rotation=0)\n",
        "    plt.yticks(tick_marks, classes)\n",
        "\n",
        "    if normalize:\n",
        "        cm = cm.astype('float') / cm.sum(axis=1)[:, np.newaxis]\n",
        "        #print(\"Normalized confusion matrix\")\n",
        "    else:\n",
        "        1#print('Confusion matrix, without normalization')\n",
        "\n",
        "    #print(cm)\n",
        "\n",
        "    thresh = cm.max() / 2.\n",
        "    for i, j in itertools.product(range(cm.shape[0]), range(cm.shape[1])):\n",
        "        plt.text(j, i, cm[i, j],\n",
        "                 horizontalalignment=\"center\",\n",
        "                 color=\"white\" if cm[i, j] > thresh else \"black\")\n",
        "\n",
        "    plt.tight_layout()\n",
        "    plt.ylabel('True label')\n",
        "    plt.xlabel('Predicted label')"
      ],
      "execution_count": 0,
      "outputs": []
    },
    {
      "cell_type": "code",
      "metadata": {
        "id": "e1_cXDdtP6NQ",
        "colab_type": "code",
        "outputId": "402a4fa6-80eb-4c16-cf4f-647d69bfddcc",
        "colab": {
          "base_uri": "https://localhost:8080/",
          "height": 297
        }
      },
      "source": [
        "# Compute confusion matrix for logistic regression\n",
        "lrConfM = confusion_matrix(y_true=testY, y_pred=predictions)\n",
        "\n",
        "plt.figure()\n",
        "plot_confusion_matrix(lrConfM\n",
        "                      , classes=[0,1]\n",
        "                      , title='Confusion matrix')\n",
        "plt.show()"
      ],
      "execution_count": 0,
      "outputs": [
        {
          "output_type": "display_data",
          "data": {
            "image/png": "[encoded data removed]",
            "text/plain": [
              "<Figure size 432x288 with 2 Axes>"
            ]
          },
          "metadata": {
            "tags": []
          }
        }
      ]
    },
    {
      "cell_type": "code",
      "metadata": {
        "id": "r0FlrT1HPA5t",
        "colab_type": "code",
        "outputId": "768129bb-74da-41eb-e3ae-cac74966dd3c",
        "colab": {
          "base_uri": "https://localhost:8080/",
          "height": 297
        }
      },
      "source": [
        "# Compute confusion matrix\n",
        "\n",
        "rfConfM = confusion_matrix(testY, rfPredict)\n",
        "plt.figure()\n",
        "plot_confusion_matrix(rfConfM\n",
        "                      , classes=[0,1]\n",
        "                      , title='Confusion matrix')\n",
        "plt.show()"
      ],
      "execution_count": 0,
      "outputs": [
        {
          "output_type": "display_data",
          "data": {
            "image/png": "[encoded data removed]",
            "text/plain": [
              "<Figure size 432x288 with 2 Axes>"
            ]
          },
          "metadata": {
            "tags": []
          }
        }
      ]
    },
    {
      "cell_type": "code",
      "metadata": {
        "id": "5hgPapdkRoUy",
        "colab_type": "code",
        "outputId": "08e7c4bd-7634-40b6-e932-0476d6756946",
        "colab": {
          "base_uri": "https://localhost:8080/",
          "height": 295
        }
      },
      "source": [
        "fpr, tpr, thresholds = roc_curve(testY, predictions)\n",
        "roc_auc = auc(fpr,tpr)\n",
        "\n",
        "# Plot ROC\n",
        "plt.title('Receiver Operating Characteristic for logistic regression')\n",
        "plt.plot(fpr, tpr, 'b',label='AUC = %0.2f'% roc_auc)\n",
        "plt.legend(loc='lower right')\n",
        "plt.plot([0,1],[0,1],'r--')\n",
        "plt.xlim([-0.1,1.0])\n",
        "plt.ylim([-0.1,1.01])\n",
        "plt.ylabel('True Positive Rate')\n",
        "plt.xlabel('False Positive Rate')\n",
        "plt.show()"
      ],
      "execution_count": 0,
      "outputs": [
        {
          "output_type": "display_data",
          "data": {
            "image/png": "[encoded data removed]",
            "text/plain": [
              "<Figure size 432x288 with 1 Axes>"
            ]
          },
          "metadata": {
            "tags": []
          }
        }
      ]
    },
    {
      "cell_type": "code",
      "metadata": {
        "id": "o-dmeIrFSHdL",
        "colab_type": "code",
        "outputId": "9a92e0db-fa87-4b9b-c904-6bce9d2b2695",
        "colab": {
          "base_uri": "https://localhost:8080/",
          "height": 295
        }
      },
      "source": [
        "fpr, tpr, thresholds = roc_curve(testY, rfPredict)\n",
        "roc_auc = auc(fpr,tpr)\n",
        "\n",
        "# Plot ROC\n",
        "plt.title('Receiver Operating Characteristic for random forest')\n",
        "plt.plot(fpr, tpr, 'b',label='AUC = %0.2f'% roc_auc)\n",
        "plt.legend(loc='lower right')\n",
        "plt.plot([0,1],[0,1],'r--')\n",
        "plt.xlim([-0.1,1.0])\n",
        "plt.ylim([-0.1,1.01])\n",
        "plt.ylabel('True Positive Rate')\n",
        "plt.xlabel('False Positive Rate')\n",
        "plt.show()"
      ],
      "execution_count": 0,
      "outputs": [
        {
          "output_type": "display_data",
          "data": {
            "image/png": "[encoded data removed]",
            "text/plain": [
              "<Figure size 432x288 with 1 Axes>"
            ]
          },
          "metadata": {
            "tags": []
          }
        }
      ]
    }
  ]
}